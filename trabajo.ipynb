{
 "cells": [
  {
   "cell_type": "markdown",
   "id": "9af4c5cb-b6c2-4eed-86b7-15f2c1587f16",
   "metadata": {},
   "source": [
    "API WHEATHER\n",
    "\n",
    "Ofrece una variedad de datos y funcionalidades para obtener información sobre el clima y las condiciones meteorológicas de cualquier lugar."
   ]
  },
  {
   "cell_type": "code",
   "execution_count": null,
   "id": "ad5e3f5b",
   "metadata": {},
   "outputs": [],
   "source": [
    "import requests  # Biblioteca para realizar solicitudes HTTP\n",
    "import matplotlib.pyplot as plt\n",
    "\n",
    "# Función para obtener datos del clima desde WeatherAPI\n",
    "def obtener_clima(ciudad, api_key_weather): # conecta con la API de Weather Api para opbtener los datos climáticos de una ciudad específica\n",
    "    url_weather = f\"http://api.weatherapi.com/v1/current.json?key={api_key_weather}&q={ciudad}\" #Se construye URL dinámica, current.json para datos actuales, la clave de API (api_key_weather) y el parametro de busqueda (ciudad)\n",
    "    try: #solicitamos datos a la API\n",
    "        respuesta = requests.get(url_weather, timeout=10) #Hace una solicitud GET a la URL, limita el tiempo de espera 10seg\n",
    "        respuesta.raise_for_status() # Lanza una excepción si la respuesta indica un error\n",
    "        datos = respuesta.json() #Facilita el acceso convierte la respuesta JSON en un diccionario Python\n",
    "        # Extraer datos relevantes\n",
    "        clima = { #se construye diccionario clima con los datos relevantes como: Ciudad, país, temp °C, humedad%, velocidad viento km/h.\n",
    "            \"ciudad\": datos.get(\"location\", {}).get(\"name\"), #usando get() se extraen valores especificos\n",
    "            \"pais\": datos.get(\"location\", {}).get(\"country\"),\n",
    "            \"temperatura_c\": datos.get(\"current\", {}).get(\"temp_c\"),\n",
    "            \"humedad\": datos.get(\"current\", {}).get(\"humidity\"),\n",
    "            \"viento_kph\": datos.get(\"current\", {}).get(\"wind_kph\"),\n",
    "            \"descripcion\": datos.get(\"current\", {}).get(\"condition\", {}).get(\"text\") #descripcion textual de las condiciones actuales\n",
    "        }\n",
    "        return clima\n",
    "    except requests.exceptions.RequestException as e: #captura cualquier excepción generada durante la solicitud (error de conexion, tiempo de espera)\n",
    "        print(f\"Error al obtener el clima de {ciudad}: {e}\")\n",
    "        return None\n",
    "\n",
    "# Ejemplo de uso\n",
    "api_key_weather = \"e1d44396e7d44430887215118241812\"  # Reemplaza con tu clave de API\n",
    "ciudad = \"Lima\" #se especifica la ciudad\n",
    "clima = obtener_clima(ciudad, api_key_weather) #se llama la función y se guarda el resultado en clima.\n",
    "\n",
    "if clima: #si clima no es None imprime los datos climáticos.\n",
    "    print(\"Datos del clima:\")\n",
    "    print(f\"Ciudad: {clima['ciudad']}, País: {clima['pais']}\")\n",
    "    print(f\"Temperatura: {clima['temperatura_c']}°C\")\n",
    "    print(f\"Humedad: {clima['humedad']}%\")\n",
    "    print(f\"Viento: {clima['viento_kph']} km/h\")\n",
    "    print(f\"Condiciones: {clima['descripcion']}\")"
   ]
  }
 ],
 "metadata": {
  "kernelspec": {
   "display_name": "Python 3 (ipykernel)",
   "language": "python",
   "name": "python3"
  },
  "language_info": {
   "codemirror_mode": {
    "name": "ipython",
    "version": 3
   },
   "file_extension": ".py",
   "mimetype": "text/x-python",
   "name": "python",
   "nbconvert_exporter": "python",
   "pygments_lexer": "ipython3",
   "version": "3.12.4"
  }
 },
 "nbformat": 4,
 "nbformat_minor": 5
}
