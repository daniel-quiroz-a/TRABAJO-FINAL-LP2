{
  "nbformat": 4,
  "nbformat_minor": 0,
  "metadata": {
    "colab": {
      "provenance": []
    },
    "kernelspec": {
      "name": "python3",
      "display_name": "Python 3"
    },
    "language_info": {
      "name": "python"
    }
  },
  "cells": [
    {
      "cell_type": "markdown",
      "source": [
        "# **Índice de habitabilidad basado en las métricas obtenidas y clasificar las ciudades en categorías**"
      ],
      "metadata": {
        "id": "ATwWlMkyEP8z"
      }
    },
    {
      "cell_type": "code",
      "source": [
        "import pandas as pd  # Importar la librería pandas para manejar datos en formato de tablas (dataframes)\n",
        "\n",
        "# Agregar una nueva columna al DataFrame para calcular el índice de habitabilidad\n",
        "def calcular_indice_habitabilidad(df):\n",
        "    # Normalizar las métricas para que todas tengan valores comparables\n",
        "\n",
        "    # Calcular un índice para la calidad del aire basado en el AQI (Air Quality Index). Invertimos el AQI para que valores más bajos (mejor calidad) tengan un puntaje más alto.\n",
        "    df['indice_calidad_aire'] = 100 - df['aqi_us']  # Invertir AQI, valores más bajos son mejores\n",
        "\n",
        "    # Calcular el índice de temperatura: Si está en el rango de 15-30°C, se considera ideal, de lo contrario se asigna un valor de 50.\n",
        "    df['indice_temperatura'] = df['temperatura_c_x'].apply(lambda x: 100 if 15 <= x <= 30 else 50)\n",
        "\n",
        "    # Calcular el índice de humedad: Si está en el rango de 30%-60%, se considera ideal, de lo contrario se asigna un valor de 50.\n",
        "    df['indice_humedad'] = df['humedad_x'].apply(lambda x: 100 if 30 <= x <= 60 else 50)\n",
        "\n",
        "    # Calcular el índice de viento: Si la velocidad del viento es mayor o igual a 2 m/s, se considera ideal, de lo contrario se asigna un valor de 50.\n",
        "    df['indice_viento'] = df['velocidad_viento_m/s'].apply(lambda x: 100 if x >= 2 else 50)\n",
        "\n",
        "    # Promediar los índices para obtener un índice general de habitabilidad\n",
        "    # El índice de habitabilidad es el promedio de los índices de calidad del aire, temperatura, humedad y viento.\n",
        "    df['indice_habitabilidad'] = (\n",
        "        df['indice_calidad_aire'] +  # Índice de calidad del aire\n",
        "        df['indice_temperatura'] +  # Índice de temperatura\n",
        "        df['indice_humedad'] +      # Índice de humedad\n",
        "        df['indice_viento']         # Índice de viento\n",
        "    ) / 4  # Promedio de los 4 índices\n",
        "\n",
        "    # Clasificar según umbrales\n",
        "    # Función que clasifica la habitabilidad en categorías de \"Alta Habitabilidad\", \"Moderada Habitabilidad\" y \"Baja Habitabilidad\"\n",
        "    def clasificar_habitabilidad(indice):\n",
        "        if indice >= 75:  # Si el índice es mayor o igual a 75, la ciudad tiene alta habitabilidad\n",
        "            return \"Alta Habitabilidad\"\n",
        "        elif indice >= 50:  # Si el índice es mayor o igual a 50, pero menor a 75, la ciudad tiene moderada habitabilidad\n",
        "            return \"Moderada Habitabilidad\"\n",
        "        else:  # Si el índice es menor a 50, la ciudad tiene baja habitabilidad\n",
        "            return \"Baja Habitabilidad\"\n",
        "\n",
        "    # Aplicamos la función de clasificación a la columna 'indice_habitabilidad' para crear una nueva columna 'categoria_habitabilidad'\n",
        "    df['categoria_habitabilidad'] = df['indice_habitabilidad'].apply(clasificar_habitabilidad)\n",
        "\n",
        "    return df  # Devolvemos el DataFrame con las nuevas columnas y categorías\n",
        "\n",
        "# Aplicar la función al DataFrame de comparación\n",
        "comparacion = calcular_indice_habitabilidad(comparacion)  # Calculamos el índice de habitabilidad para cada ciudad\n",
        "\n",
        "# Mostrar los resultados con las columnas relevantes\n",
        "print(\"\\nClasificación de habitabilidad de las ciudades:\")\n",
        "# Mostramos la ciudad, el índice de habitabilidad y la categoría de habitabilidad\n",
        "print(comparacion[['ciudad', 'indice_habitabilidad', 'categoria_habitabilidad']])\n",
        "\n",
        "# Identificar la ciudad con el índice de habitabilidad más alto (la mejor ciudad)\n",
        "ciudad_ideal = comparacion.loc[comparacion['indice_habitabilidad'].idxmax()]  # Encontramos la ciudad con el índice máximo\n",
        "print(\"\\nLa ciudad con mayor habitabilidad es:\")  # Mostramos el resultado\n",
        "print(f\"Ciudad: {ciudad_ideal['ciudad']}\")\n",
        "print(f\"Índice de Habitabilidad: {ciudad_ideal['indice_habitabilidad']:.2f}\")  # Mostramos el índice con dos decimales\n",
        "print(f\"Categoría: {ciudad_ideal['categoria_habitabilidad']}\")  # Mostramos la categoría de la ciudad ideal"
      ],
      "metadata": {
        "id": "E0wHHiSfO9Np"
      },
      "execution_count": null,
      "outputs": []
    }
  ]
}